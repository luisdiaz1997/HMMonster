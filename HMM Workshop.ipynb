{
 "cells": [
  {
   "cell_type": "code",
   "execution_count": 1,
   "metadata": {},
   "outputs": [],
   "source": [
    "import numpy as np\n",
    "import pandas as pd\n",
    "import matplotlib.pyplot as plt"
   ]
  },
  {
   "cell_type": "markdown",
   "metadata": {},
   "source": [
    "# Viterbi Algorithm"
   ]
  },
  {
   "cell_type": "markdown",
   "metadata": {},
   "source": [
    "\\begin{equation}\n",
    " \\Pi^*= argmax_{} P(X ,\\Pi)\n",
    "\\end{equation}"
   ]
  },
  {
   "cell_type": "code",
   "execution_count": 2,
   "metadata": {},
   "outputs": [],
   "source": [
    "def viterbi(x, transmat, emissions):\n",
    "    v_seq = np.zeros((len(x), len(transmat)))\n",
    "    states = np.zeros((len(x), len(transmat)))\n",
    "    best_states = np.zeros(len(x),  dtype=int)\n",
    "    for i in range(len(v_seq)):\n",
    "        if i == 0:\n",
    "            v_seq[0] = (1/len(transmat)) * emissions[:,x[i]]\n",
    "            v_seq[0] = np.log(v_seq[0])\n",
    "            states[0] = np.zeros(len(transmat))\n",
    "            continue\n",
    "        p = v_seq[i-1] + np.log(transmat.T)\n",
    "        states[i] =  np.argmax(p, axis=1)\n",
    "        v_seq[i] =   np.log(emissions[:,x[i]]) + np.amax(p, axis = 1)\n",
    "        \n",
    "    best_states[-1] = np.argmax(v_seq[-1])\n",
    "    \n",
    "    for i in reversed(range(1, len(x))):\n",
    "        best_states[i-1] = states[i][best_states[i]]\n",
    "        \n",
    "    return v_seq, states, best_states\n",
    "    "
   ]
  },
  {
   "cell_type": "markdown",
   "metadata": {},
   "source": [
    "# Forward Algorithm"
   ]
  },
  {
   "cell_type": "markdown",
   "metadata": {},
   "source": [
    "\\begin{equation}\n",
    "\\label{eq:bayes}\n",
    "f_{(k)}(i) =  P(X_{1}....X_{i} |\\Pi_{i} = k)\n",
    "\\end{equation}"
   ]
  },
  {
   "cell_type": "code",
   "execution_count": 3,
   "metadata": {},
   "outputs": [],
   "source": [
    "def forward(x, transmat, emissions):\n",
    "    f_seq = np.zeros((len(x), len(transmat)))\n",
    "    s_seq = np.zeros((len(x), 1))\n",
    "    a = 10**len(f_seq)\n",
    "    for i in range(len(f_seq)):\n",
    "        if i == 0:\n",
    "            f_seq[i] =  emissions[:,x[i]] * (1/len(transmat)) *a\n",
    "            continue\n",
    "        f_seq[i] = emissions[:,x[i]] * np.matmul(f_seq[i-1], transmat)\n",
    "        \n",
    "    P = (1/len(transmat))*sum(f_seq[-1]) \n",
    "        \n",
    "    return (f_seq, P, a)"
   ]
  },
  {
   "cell_type": "markdown",
   "metadata": {},
   "source": [
    "# Backward Algorithm"
   ]
  },
  {
   "cell_type": "markdown",
   "metadata": {},
   "source": [
    "\\begin{equation}\n",
    "\\label{eq:bayes}\n",
    "B_{(k)}(i) =  P(X_{i+1}....X_{L} |\\Pi_{i} = k)\n",
    "\\end{equation}"
   ]
  },
  {
   "cell_type": "code",
   "execution_count": 4,
   "metadata": {},
   "outputs": [],
   "source": [
    "def backward(x, transmat, emissions):\n",
    "    b_seq = np.zeros((len(x), len(transmat)))\n",
    "    a = 10**len(b_seq)\n",
    "    for i in reversed(range(len(b_seq))):\n",
    "        if i == len(b_seq) -1:\n",
    "            b_seq[i] =  (1/len(transmat))*np.ones(len(transmat))*a\n",
    "            continue\n",
    "        b_seq[i] = np.matmul(emissions[:,x[i+1]] * b_seq[i+1],  transmat.T)\n",
    "    \n",
    "    P = (1/len(transmat))*sum(emissions[:,x[0]] * b_seq[0])\n",
    "    return (b_seq, P, a)"
   ]
  },
  {
   "cell_type": "markdown",
   "metadata": {},
   "source": [
    "# Let's predict CpG islands"
   ]
  },
  {
   "cell_type": "code",
   "execution_count": 5,
   "metadata": {},
   "outputs": [],
   "source": [
    "seq = 'AGAACTGCTGACTGATAGATCGCGCGCCGCGCGCGCGGCATGCATCGATGCATGCGCAACTCGAATCGATTGACAGAAGACAATTATGACAATGCGCAGCAGCATTTATTACTACACATACGGTGCACTGCGCGCGCTCACTGCA'"
   ]
  },
  {
   "cell_type": "code",
   "execution_count": null,
   "metadata": {},
   "outputs": [],
   "source": []
  },
  {
   "cell_type": "code",
   "execution_count": null,
   "metadata": {},
   "outputs": [],
   "source": []
  },
  {
   "cell_type": "code",
   "execution_count": null,
   "metadata": {},
   "outputs": [],
   "source": []
  },
  {
   "cell_type": "code",
   "execution_count": null,
   "metadata": {},
   "outputs": [],
   "source": []
  },
  {
   "cell_type": "code",
   "execution_count": null,
   "metadata": {},
   "outputs": [],
   "source": []
  },
  {
   "cell_type": "code",
   "execution_count": null,
   "metadata": {},
   "outputs": [],
   "source": []
  },
  {
   "cell_type": "markdown",
   "metadata": {},
   "source": [
    "# Let's get the viterbi"
   ]
  },
  {
   "cell_type": "code",
   "execution_count": null,
   "metadata": {},
   "outputs": [],
   "source": []
  },
  {
   "cell_type": "code",
   "execution_count": null,
   "metadata": {},
   "outputs": [],
   "source": []
  },
  {
   "cell_type": "code",
   "execution_count": null,
   "metadata": {},
   "outputs": [],
   "source": []
  },
  {
   "cell_type": "code",
   "execution_count": null,
   "metadata": {},
   "outputs": [],
   "source": []
  },
  {
   "cell_type": "code",
   "execution_count": null,
   "metadata": {},
   "outputs": [],
   "source": []
  },
  {
   "cell_type": "code",
   "execution_count": null,
   "metadata": {},
   "outputs": [],
   "source": []
  },
  {
   "cell_type": "code",
   "execution_count": null,
   "metadata": {},
   "outputs": [],
   "source": []
  },
  {
   "cell_type": "markdown",
   "metadata": {},
   "source": [
    "# Let's plot posterior probabilities"
   ]
  },
  {
   "cell_type": "markdown",
   "metadata": {},
   "source": [
    "\\begin{equation}\n",
    "\\label{eq:bayes}\n",
    "P(\\pi(i) = k|\\textbf{X}) =  \\frac{P(X_{1}....X_{i} |\\Pi_{i} = k) P(X_{i+1}....X_{L} |\\Pi_{i} = k)}{P(\\textbf{X})} \n",
    "\\end{equation}"
   ]
  },
  {
   "cell_type": "markdown",
   "metadata": {},
   "source": [
    "## Which is just:"
   ]
  },
  {
   "cell_type": "markdown",
   "metadata": {},
   "source": [
    "\\begin{equation}\n",
    "\\label{eq:bayes}\n",
    "P(\\pi(i) = k|\\textbf{X}) =  \\frac{f_{(k)}(i) B_{(k)}(i)}{P(\\textbf{X})} \n",
    "\\end{equation}"
   ]
  },
  {
   "cell_type": "code",
   "execution_count": null,
   "metadata": {},
   "outputs": [],
   "source": []
  },
  {
   "cell_type": "code",
   "execution_count": null,
   "metadata": {},
   "outputs": [],
   "source": []
  },
  {
   "cell_type": "markdown",
   "metadata": {},
   "source": [
    "## Putting all together"
   ]
  },
  {
   "cell_type": "code",
   "execution_count": null,
   "metadata": {},
   "outputs": [],
   "source": []
  }
 ],
 "metadata": {
  "kernelspec": {
   "display_name": "Python 3",
   "language": "python",
   "name": "python3"
  },
  "language_info": {
   "codemirror_mode": {
    "name": "ipython",
    "version": 3
   },
   "file_extension": ".py",
   "mimetype": "text/x-python",
   "name": "python",
   "nbconvert_exporter": "python",
   "pygments_lexer": "ipython3",
   "version": "3.6.7"
  }
 },
 "nbformat": 4,
 "nbformat_minor": 2
}
